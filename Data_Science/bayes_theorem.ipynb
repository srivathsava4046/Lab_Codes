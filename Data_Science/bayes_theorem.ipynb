{
 "cells": [
  {
   "cell_type": "code",
   "execution_count": 1,
   "metadata": {},
   "outputs": [
    {
     "name": "stdout",
     "output_type": "stream",
     "text": [
      "The probability that a patient has the disease given a positive test result is: 0.67\n"
     ]
    }
   ],
   "source": [
    "'''Question:\n",
    "\n",
    "You work at a medical clinic, and you have data on patients' test results for a specific disease. You want to estimate the \n",
    "probability that a patient has the disease given their test result. You have the following dataset:\n",
    "\n",
    "Out of 1,000 patients, 100 patients have the disease (Disease = Yes), and 900 do not have the disease (Disease = No).\n",
    "When the test is performed on patients with the disease (Disease = Yes), it correctly identifies the disease in 90% of cases (True Positive). \n",
    "However, it also gives a false negative result for 10% of cases.When the test is performed on patients without the disease (Disease = No), \n",
    "it gives a false positive result in 5% of cases (False Positive), and it correctly gives a true negative result for the remaining 95% of cases.\n",
    "Given this dataset and information, calculate the probability that a patient has the disease (Disease = Yes) if their test result is positive \n",
    "(Test Result = Positive) using Bayes' theorem.\n",
    "\n",
    "'''\n",
    "\n",
    "''' \n",
    "Given:\n",
    "\n",
    "Patients with Disease (Disease = Yes): 100\n",
    "Patients without Disease (Disease = No): 900\n",
    "True Positive (Test Result = Positive | Disease = Yes): 90%\n",
    "False Negative (Test Result = Negative | Disease = Yes): 10%\n",
    "False Positive (Test Result = Positive | Disease = No): 5%\n",
    "True Negative (Test Result = Negative | Disease = No): 95%\n",
    "Use Bayes' theorem to calculate the conditional probability P(Disease = Yes | Test Result = Positive). '''\n",
    "\n",
    "# Define the probabilities and counts based on the dataset\n",
    "total_patients = 1000\n",
    "patients_with_disease = 100\n",
    "patients_without_disease = 900\n",
    "\n",
    "true_positive = 0.90  # P(Test Result = Positive | Disease = Yes)\n",
    "false_negative = 0.10  # P(Test Result = Negative | Disease = Yes)\n",
    "false_positive = 0.05  # P(Test Result = Positive | Disease = No)\n",
    "true_negative = 0.95  # P(Test Result = Negative | Disease = No\n",
    "\n",
    "# Calculate the prior probability P(Disease = Yes)\n",
    "prior_probability = patients_with_disease / total_patients\n",
    "\n",
    "# Calculate the prior probability P(Disease = No)\n",
    "prior_probability_no = patients_without_disease / total_patients\n",
    "\n",
    "# Calculate the evidence probability P(Test Result = Positive) using the law of total probability\n",
    "evidence_probability = (prior_probability * true_positive) + (prior_probability_no * false_positive)\n",
    "\n",
    "# Calculate the posterior probability P(Disease = Yes | Test Result = Positive) using Bayes' theorem\n",
    "posterior_probability = (prior_probability * true_positive) / evidence_probability\n",
    "\n",
    "# Display the result\n",
    "print(f\"The probability that a patient has the disease given a positive test result is: {posterior_probability:.2f}\")\n"
   ]
  },
  {
   "cell_type": "code",
   "execution_count": 2,
   "metadata": {},
   "outputs": [
    {
     "name": "stdout",
     "output_type": "stream",
     "text": [
      "Accuracy: 0.98\n"
     ]
    }
   ],
   "source": [
    "import numpy as np\n",
    "from sklearn import datasets\n",
    "from sklearn.model_selection import train_test_split\n",
    "from sklearn.naive_bayes import GaussianNB\n",
    "from sklearn.metrics import accuracy_score\n",
    "\n",
    "# Load the Iris dataset\n",
    "iris = datasets.load_iris()\n",
    "X = iris.data\n",
    "y = iris.target\n",
    "\n",
    "# Split the dataset into training and testing sets\n",
    "X_train, X_test, y_train, y_test = train_test_split(X, y, test_size=0.3, random_state=42)\n",
    "\n",
    "# Create a Naive Bayes classifier\n",
    "nb_classifier = GaussianNB()\n",
    "\n",
    "# Fit the classifier on the training data\n",
    "nb_classifier.fit(X_train, y_train)\n",
    "\n",
    "# Make predictions on the test data\n",
    "y_pred = nb_classifier.predict(X_test)\n",
    "\n",
    "# Calculate the accuracy of the classifier\n",
    "accuracy = accuracy_score(y_test, y_pred)\n",
    "print(f\"Accuracy: {accuracy:.2f}\")\n"
   ]
  },
  {
   "cell_type": "code",
   "execution_count": null,
   "metadata": {},
   "outputs": [],
   "source": []
  }
 ],
 "metadata": {
  "kernelspec": {
   "display_name": "Python 3",
   "language": "python",
   "name": "python3"
  },
  "language_info": {
   "codemirror_mode": {
    "name": "ipython",
    "version": 3
   },
   "file_extension": ".py",
   "mimetype": "text/x-python",
   "name": "python",
   "nbconvert_exporter": "python",
   "pygments_lexer": "ipython3",
   "version": "3.9.5"
  }
 },
 "nbformat": 4,
 "nbformat_minor": 2
}
